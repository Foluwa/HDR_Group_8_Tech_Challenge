{
 "cells": [
  {
   "cell_type": "code",
   "execution_count": 1,
   "id": "957c990d",
   "metadata": {},
   "outputs": [],
   "source": [
    "# Abdul Notebook v1"
   ]
  },
  {
   "cell_type": "code",
   "execution_count": 2,
   "id": "231e6028",
   "metadata": {},
   "outputs": [],
   "source": [
    "import pandas as pd"
   ]
  },
  {
   "cell_type": "code",
   "execution_count": 3,
   "id": "a18ca4f5",
   "metadata": {},
   "outputs": [],
   "source": [
    "datasets = {\n",
    "    \"sim_av_gene\": \"sim_av_gene.csv\",\n",
    "    \"sim_av_patient\": \"sim_av_patient.csv\",\n",
    "    \"sim_av_tumour\": \"sim_av_tumour.csv\",\n",
    "    \"sim_rtds_combined\": \"sim_rtds_combined.csv\",\n",
    "    \"sim_rtds_episode\": \"sim_rtds_episode.csv\",\n",
    "    \"sim_rtds_exposure\": \"sim_rtds_exposure.csv\",   \n",
    "    \"sim_rtds_prescription\": \"sim_rtds_prescription.csv\",\n",
    "    \"sim_sact_cycle\": \"sim_sact_cycle.csv\",\n",
    "    \"sim_sact_drug_detail\": \"sim_sact_drug_detail.csv\",\n",
    "    \"sim_sact_outcome\": \"sim_sact_outcome.csv\",\n",
    "    \"sim_sact_regimen\": \"sim_sact_regimen.csv\"\n",
    "}\n"
   ]
  },
  {
   "cell_type": "code",
   "execution_count": 4,
   "id": "745e35b9",
   "metadata": {},
   "outputs": [
    {
     "name": "stderr",
     "output_type": "stream",
     "text": [
      "/Users/AbdulrahmanDablouk/opt/anaconda3/lib/python3.8/site-packages/IPython/core/interactiveshell.py:3357: DtypeWarning: Columns (14,15,16,17,23,24,25,26) have mixed types.Specify dtype option on import or set low_memory=False.\n",
      "  if (await self.run_code(code, result,  async_=asy)):\n",
      "/Users/AbdulrahmanDablouk/opt/anaconda3/lib/python3.8/site-packages/IPython/core/interactiveshell.py:3357: DtypeWarning: Columns (15,20) have mixed types.Specify dtype option on import or set low_memory=False.\n",
      "  if (await self.run_code(code, result,  async_=asy)):\n",
      "/Users/AbdulrahmanDablouk/opt/anaconda3/lib/python3.8/site-packages/IPython/core/interactiveshell.py:3357: DtypeWarning: Columns (2) have mixed types.Specify dtype option on import or set low_memory=False.\n",
      "  if (await self.run_code(code, result,  async_=asy)):\n",
      "/Users/AbdulrahmanDablouk/opt/anaconda3/lib/python3.8/site-packages/IPython/core/interactiveshell.py:3357: DtypeWarning: Columns (1,6) have mixed types.Specify dtype option on import or set low_memory=False.\n",
      "  if (await self.run_code(code, result,  async_=asy)):\n",
      "/Users/AbdulrahmanDablouk/opt/anaconda3/lib/python3.8/site-packages/IPython/core/interactiveshell.py:3357: DtypeWarning: Columns (11) have mixed types.Specify dtype option on import or set low_memory=False.\n",
      "  if (await self.run_code(code, result,  async_=asy)):\n",
      "/Users/AbdulrahmanDablouk/opt/anaconda3/lib/python3.8/site-packages/IPython/core/interactiveshell.py:3357: DtypeWarning: Columns (5) have mixed types.Specify dtype option on import or set low_memory=False.\n",
      "  if (await self.run_code(code, result,  async_=asy)):\n"
     ]
    }
   ],
   "source": [
    "dfs = {name: pd.read_csv(filename) for name, filename in datasets.items()}"
   ]
  },
  {
   "cell_type": "code",
   "execution_count": 5,
   "id": "a351b1ff",
   "metadata": {},
   "outputs": [],
   "source": [
    "sim_av_gene = dfs[\"sim_av_gene\"]\n",
    "sim_av_patient = dfs[\"sim_av_patient\"]\n",
    "sim_av_tumour = dfs[\"sim_av_tumour\"]\n",
    "sim_rtds_combined = dfs[\"sim_rtds_combined\"]\n",
    "sim_rtds_episode = dfs[\"sim_rtds_episode\"]\n",
    "sim_rtds_exposure = dfs[\"sim_rtds_exposure\"]\n",
    "sim_rtds_prescription = dfs[\"sim_rtds_prescription\"]\n",
    "sim_sact_cycle = dfs[\"sim_sact_cycle\"]\n",
    "sim_sact_drug_detail = dfs[\"sim_sact_drug_detail\"]\n",
    "sim_sact_outcome = dfs[\"sim_sact_outcome\"]\n",
    "sim_sact_regimen = dfs[\"sim_sact_regimen\"]"
   ]
  },
  {
   "cell_type": "code",
   "execution_count": 7,
   "id": "cb259fe7",
   "metadata": {},
   "outputs": [],
   "source": [
    "# Filtering out patients who don't have C34 from sim_av_tumour\n",
    "\n",
    "# Selecting columns with cancer type \n",
    "\n",
    "cancer_cols = (\n",
    "    'SITE_ICD10_O2_3CHAR',\n",
    "    'SITE_ICD10_O2',\n",
    "    'SITE_ICD10R4_O2_3CHAR_FROM2013',\n",
    "    'SITE_ICD10R4_O2_FROM2013',\n",
    "    'SITE_ICDO3REV2011',\n",
    "    'SITE_ICDO3REV2011_3CHAR'\n",
    ")\n",
    "\n",
    "# Cell is True if starts with C34\n",
    "\n",
    "c34_cancer = sim_av_tumour[list(cancer_cols)].apply(\n",
    "   lambda col: col.fillna(\"\").astype(str).str.startswith(\"C34\"))\n",
    "\n",
    "# Mask to return true if any column in row is True\n",
    "\n",
    "mask = c34_cancer.any(axis=1)\n",
    "\n",
    "sim_av_tumour_c34 = sim_av_tumour[mask]\n",
    "    "
   ]
  },
  {
   "cell_type": "code",
   "execution_count": 9,
   "id": "64e4eae1",
   "metadata": {},
   "outputs": [],
   "source": [
    "# Filtering out patients who don't have C34 from the rest of the datasets\n",
    "\n",
    "# First getting the unique patient IDs from the filtered sim_av_tumour dataset (sim_av_tumour_c34)\n",
    "\n",
    "patient_id_col = 'PATIENTID'\n",
    "\n",
    "c34_patients = set(sim_av_tumour_c34[patient_id_col].unique())\n",
    "\n",
    "# Filtration of each dataset based on whether or not the C34 PatientID's match\n",
    "\n",
    "sim_av_patient_c34 = dfs['sim_av_patient'][dfs['sim_av_patient'][patient_id_col].isin(c34_patients)]\n",
    "\n",
    "sim_av_gene_c34 = dfs['sim_av_gene'][dfs['sim_av_gene'][patient_id_col].isin(c34_patients)]\n",
    "\n",
    "sim_rtds_combined_c34 = dfs['sim_rtds_combined'][dfs['sim_rtds_combined'][patient_id_col].isin(c34_patients)]\n",
    "\n",
    "sim_rtds_episode_c34 = dfs['sim_rtds_episode'][dfs['sim_rtds_episode'][patient_id_col].isin(c34_patients)]\n",
    "\n",
    "sim_rtds_exposure_c34 = dfs['sim_rtds_exposure'][dfs['sim_rtds_exposure'][patient_id_col].isin(c34_patients)]\n",
    "\n",
    "sim_rtds_prescription_c34 = dfs['sim_rtds_prescription'][dfs['sim_rtds_prescription'][patient_id_col].isin(c34_patients)]\n"
   ]
  },
  {
   "cell_type": "code",
   "execution_count": 10,
   "id": "1faaa59b",
   "metadata": {},
   "outputs": [],
   "source": [
    "# Exporting filtered datasets to CSV files\n",
    "\n",
    "sim_av_tumour_c34.to_csv('sim_av_tumour_c34.csv', index=False)\n",
    "\n",
    "sim_av_patient_c34.to_csv('sim_av_patient_c34.csv', index=False)\n",
    "\n",
    "sim_av_gene_c34.to_csv('sim_av_gene_c34.csv', index=False)\n",
    "\n",
    "sim_rtds_combined_c34.to_csv('sim_rtds_combined_c34.csv', index=False)\n",
    "\n",
    "sim_rtds_episode_c34.to_csv('sim_rtds_episode_c34.csv', index=False)\n",
    "\n",
    "sim_rtds_exposure_c34.to_csv('sim_rtds_exposure_c34.csv', index=False)\n",
    "\n",
    "sim_rtds_prescription_c34.to_csv('sim_rtds_prescription_c34.csv', index=False)"
   ]
  }
 ],
 "metadata": {
  "kernelspec": {
   "display_name": "Python 3",
   "language": "python",
   "name": "python3"
  },
  "language_info": {
   "codemirror_mode": {
    "name": "ipython",
    "version": 3
   },
   "file_extension": ".py",
   "mimetype": "text/x-python",
   "name": "python",
   "nbconvert_exporter": "python",
   "pygments_lexer": "ipython3",
   "version": "3.8.8"
  }
 },
 "nbformat": 4,
 "nbformat_minor": 5
}
