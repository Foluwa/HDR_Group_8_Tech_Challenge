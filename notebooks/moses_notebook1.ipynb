{
 "cells": [
  {
   "cell_type": "code",
   "execution_count": null,
   "id": "9d09e72e",
   "metadata": {},
   "outputs": [],
   "source": [
    "# Moses Notebook v1"
   ]
  },
  {
   "cell_type": "code",
   "execution_count": 1,
   "id": "3df1d819",
   "metadata": {},
   "outputs": [],
   "source": [
    "import pandas as pd\n",
    "import numpy as np\n",
    "from scipy.stats import chi2_contingency"
   ]
  },
  {
   "cell_type": "code",
   "execution_count": 2,
   "id": "eebbfff9",
   "metadata": {},
   "outputs": [],
   "source": [
    "sim_av_patient_c34 = pd.read_csv(\"sim_av_patient_c34.csv\", dtype=str)\n",
    "sim_av_gene_c34    = pd.read_csv(\"sim_av_gene_c34.csv\", dtype=str)"
   ]
  },
  {
   "cell_type": "code",
   "execution_count": 3,
   "id": "52320c67",
   "metadata": {},
   "outputs": [
    {
     "name": "stdout",
     "output_type": "stream",
     "text": [
      "Patients: (157354, 12)\n",
      "Genes: (100689, 29)\n"
     ]
    }
   ],
   "source": [
    "print(\"Patients:\", sim_av_patient_c34.shape)\n",
    "print(\"Genes:\", sim_av_gene_c34.shape)"
   ]
  },
  {
   "cell_type": "code",
   "execution_count": 4,
   "id": "94acc7c8",
   "metadata": {},
   "outputs": [],
   "source": [
    "# Ensure GENDER = {1, 2}, map to human-readable sex\n",
    "sim_av_patient_c34[\"GENDER\"] = sim_av_patient_c34[\"GENDER\"].astype(str).str.strip()\n",
    "sex_map = {\"1\": \"MALE\", \"2\": \"FEMALE\"}\n",
    "sim_av_patient_c34[\"SEX_LABEL\"] = sim_av_patient_c34[\"GENDER\"].map(sex_map).fillna(\"UNKNOWN\")\n",
    "\n",
    "# Clean ethnicity text\n",
    "sim_av_patient_c34[\"ETHNICITY\"] = (\n",
    "    sim_av_patient_c34[\"ETHNICITY\"].astype(str).str.strip().str.upper()\n",
    ")"
   ]
  },
  {
   "cell_type": "code",
   "execution_count": 5,
   "id": "b92f911f",
   "metadata": {},
   "outputs": [],
   "source": [
    "gene_calls = sim_av_gene_c34[[\"PATIENTID\", \"GENE_DESC\"]].dropna()\n",
    "gene_calls[\"PATIENTID\"] = gene_calls[\"PATIENTID\"].astype(str)"
   ]
  },
  {
   "cell_type": "code",
   "execution_count": 6,
   "id": "427bcdd6",
   "metadata": {},
   "outputs": [],
   "source": [
    "df_long = gene_calls.merge(\n",
    "    sim_av_patient_c34[[\"PATIENTID\", \"SEX_LABEL\", \"ETHNICITY\"]],\n",
    "    on=\"PATIENTID\", how=\"left\"\n",
    ")"
   ]
  },
  {
   "cell_type": "code",
   "execution_count": 7,
   "id": "e4ac1eb6",
   "metadata": {},
   "outputs": [
    {
     "name": "stdout",
     "output_type": "stream",
     "text": [
      "Shape after pivot: (43254, 105)\n"
     ]
    }
   ],
   "source": [
    "df_wide = (\n",
    "    df_long\n",
    "    .pivot_table(index=[\"PATIENTID\", \"SEX_LABEL\", \"ETHNICITY\"],\n",
    "                 columns=\"GENE_DESC\", values=\"GENE_DESC\",\n",
    "                 aggfunc=\"size\", fill_value=0)\n",
    "    .astype(int)\n",
    "    .reset_index()\n",
    ")\n",
    "\n",
    "print(\"Shape after pivot:\", df_wide.shape)"
   ]
  },
  {
   "cell_type": "code",
   "execution_count": 10,
   "id": "32763af3",
   "metadata": {},
   "outputs": [],
   "source": [
    "def fdr_bh(pvals, alpha=0.05):\n",
    "    \"\"\"Benjamini-Hochberg procedure for FDR control\"\"\"\n",
    "    pvals = np.array(pvals)\n",
    "    ranked_pvals = np.argsort(pvals)\n",
    "    m = len(pvals)\n",
    "    thresholds = (np.arange(1, m+1) / m) * alpha\n",
    "    passed = np.zeros_like(pvals, dtype=bool)\n",
    "    passed[ranked_pvals] = pvals[ranked_pvals] <= thresholds\n",
    "    return passed"
   ]
  },
  {
   "cell_type": "code",
   "execution_count": 11,
   "id": "1ef5fe1a",
   "metadata": {},
   "outputs": [],
   "source": [
    "genes = [c for c in df_wide.columns if c not in [\"PATIENTID\", \"SEX_LABEL\", \"ETHNICITY\"]]"
   ]
  },
  {
   "cell_type": "code",
   "execution_count": 12,
   "id": "7d8f720d",
   "metadata": {},
   "outputs": [],
   "source": [
    "sex_results = []\n",
    "for g in genes:\n",
    "    tab = pd.crosstab(df_wide[\"SEX_LABEL\"], df_wide[g])\n",
    "    for col in [0, 1]:\n",
    "        if col not in tab.columns:\n",
    "            tab[col] = 0\n",
    "    tab = tab[[0, 1]]\n",
    "    chi2, p, _, _ = chi2_contingency(tab.values)\n",
    "\n",
    "    prev = (tab[1] / tab.sum(axis=1)).to_dict()\n",
    "    sex_results.append({\n",
    "        \"gene\": g,\n",
    "        \"p_value\": p,\n",
    "        \"prev_female\": prev.get(\"FEMALE\", np.nan),\n",
    "        \"prev_male\": prev.get(\"MALE\", np.nan),\n",
    "        \"female_minus_male\": prev.get(\"FEMALE\", np.nan) - prev.get(\"MALE\", np.nan)\n",
    "    })"
   ]
  },
  {
   "cell_type": "code",
   "execution_count": 13,
   "id": "75f76a25",
   "metadata": {},
   "outputs": [],
   "source": [
    "sex_df = pd.DataFrame(sex_results).sort_values(\"p_value\")\n",
    "sex_df[\"significant_FDR_5%\"] = fdr_bh(sex_df[\"p_value\"])"
   ]
  },
  {
   "cell_type": "code",
   "execution_count": 14,
   "id": "cfb56c49",
   "metadata": {},
   "outputs": [],
   "source": [
    "eth_results = []\n",
    "for g in genes:\n",
    "    tab = pd.crosstab(df_wide[\"ETHNICITY\"], df_wide[g])\n",
    "    for col in [0, 1]:\n",
    "        if col not in tab.columns:\n",
    "            tab[col] = 0\n",
    "    tab = tab[[0, 1]]\n",
    "    chi2, p, _, _ = chi2_contingency(tab.values)\n",
    "\n",
    "    prev_by_eth = (tab[1] / tab.sum(axis=1)).to_dict()\n",
    "    row = {\"gene\": g, \"p_value\": p}\n",
    "    row.update({f\"prev_{k}\": v for k, v in prev_by_eth.items()})\n",
    "    eth_results.append(row)"
   ]
  },
  {
   "cell_type": "code",
   "execution_count": 15,
   "id": "89f418c2",
   "metadata": {},
   "outputs": [],
   "source": [
    "eth_df = pd.DataFrame(eth_results).sort_values(\"p_value\")\n",
    "eth_df[\"significant_FDR_5%\"] = fdr_bh(eth_df[\"p_value\"])"
   ]
  },
  {
   "cell_type": "code",
   "execution_count": 16,
   "id": "f4a79366",
   "metadata": {},
   "outputs": [
    {
     "name": "stdout",
     "output_type": "stream",
     "text": [
      "\n",
      "Top 10 genes most associated with SEX (before FDR):\n",
      "             gene   p_value  prev_female  prev_male  significant_FDR_5%\n",
      "85           PTEN  0.036006     0.003663   0.002503               False\n",
      "74          NTRK2  0.067438     0.001221   0.001976               False\n",
      "44          H3F3A  0.107619     0.000195   0.000000               False\n",
      "73          NTRK1  0.204153     0.005571   0.004655               False\n",
      "66            MYC  0.207404     0.000147   0.000395               False\n",
      "19           CDH1  0.273171     0.000049   0.000219               False\n",
      "48           IDH2  0.276642     0.000733   0.001097               False\n",
      "18  CD274 (PD-L1)  0.344626     0.420568   0.415745               False\n",
      "47           IDH1  0.350236     0.001514   0.001142               False\n",
      "63           MSH6  0.376922     0.003468   0.002942               False\n"
     ]
    }
   ],
   "source": [
    "print(\"\\nTop 10 genes most associated with SEX (before FDR):\")\n",
    "print(sex_df.head(10)[[\"gene\", \"p_value\", \"prev_female\", \"prev_male\", \"significant_FDR_5%\"]])"
   ]
  },
  {
   "cell_type": "code",
   "execution_count": 17,
   "id": "a2c77184",
   "metadata": {},
   "outputs": [
    {
     "name": "stdout",
     "output_type": "stream",
     "text": [
      "\n",
      "Significant genes after FDR correction (SEX):\n",
      "Empty DataFrame\n",
      "Columns: [gene, p_value, prev_female, prev_male, female_minus_male, significant_FDR_5%]\n",
      "Index: []\n"
     ]
    }
   ],
   "source": [
    "print(\"\\nSignificant genes after FDR correction (SEX):\")\n",
    "print(sex_df[sex_df[\"significant_FDR_5%\"]])"
   ]
  },
  {
   "cell_type": "code",
   "execution_count": 18,
   "id": "e943aba2",
   "metadata": {},
   "outputs": [
    {
     "name": "stdout",
     "output_type": "stream",
     "text": [
      "\n",
      "Top 10 genes most associated with ETHNICITY (before FDR):\n",
      "         gene        p_value  significant_FDR_5%\n",
      "66        MYC  8.966641e-164                True\n",
      "91       SDHB   6.111055e-48                True\n",
      "70       NPM1   4.550903e-36                True\n",
      "6        BCL2   1.345809e-30                True\n",
      "45   HIST1H3B   4.202908e-20                True\n",
      "39       FLT3   3.236239e-16                True\n",
      "11      BRCA1   3.391348e-16                True\n",
      "84      POLE2   4.703604e-14                True\n",
      "100       VHL   4.703604e-14                True\n",
      "8        BCOR   2.735705e-08                True\n"
     ]
    }
   ],
   "source": [
    "print(\"\\nTop 10 genes most associated with ETHNICITY (before FDR):\")\n",
    "print(eth_df.head(10)[[\"gene\", \"p_value\", \"significant_FDR_5%\"]])"
   ]
  },
  {
   "cell_type": "code",
   "execution_count": 19,
   "id": "c5027143",
   "metadata": {},
   "outputs": [
    {
     "name": "stdout",
     "output_type": "stream",
     "text": [
      "\n",
      "Significant genes after FDR correction (ETHNICITY):\n",
      "         gene        p_value  prev_0    prev_A    prev_B    prev_C    prev_D  \\\n",
      "66        MYC  8.966641e-164     0.0  0.000158  0.000000  0.000000  0.000000   \n",
      "91       SDHB   6.111055e-48     0.0  0.000000  0.000000  0.000000  0.000000   \n",
      "70       NPM1   4.550903e-36     0.0  0.000237  0.000000  0.000000  0.000000   \n",
      "6        BCL2   1.345809e-30     0.0  0.000158  0.000000  0.000000  0.000000   \n",
      "45   HIST1H3B   4.202908e-20     0.0  0.000026  0.000000  0.000000  0.000000   \n",
      "39       FLT3   3.236239e-16     0.0  0.000210  0.000000  0.000767  0.027027   \n",
      "11      BRCA1   3.391348e-16     0.0  0.000079  0.000000  0.000000  0.000000   \n",
      "84      POLE2   4.703604e-14     0.0  0.000000  0.002469  0.000000  0.000000   \n",
      "100       VHL   4.703604e-14     0.0  0.000000  0.002469  0.000000  0.000000   \n",
      "8        BCOR   2.735705e-08     0.0  0.000026  0.000000  0.000000  0.000000   \n",
      "97       TP53   4.134424e-07     0.0  0.001157  0.000000  0.000000  0.000000   \n",
      "4         APC   1.608537e-06     0.0  0.000131  0.000000  0.000767  0.000000   \n",
      "96       TERT   3.465026e-04     0.0  0.000184  0.000000  0.000000  0.000000   \n",
      "62       MSH2   1.845963e-03     0.0  0.002656  0.002469  0.006912  0.027027   \n",
      "\n",
      "     prev_E   prev_F    prev_G  ...    prev_L    prev_M  prev_N  prev_NAN  \\\n",
      "66     0.10  0.00000  0.014286  ...  0.005102  0.003401     0.0  0.009804   \n",
      "91     0.00  0.00000  0.000000  ...  0.000000  0.000000     0.0  0.000000   \n",
      "70     0.05  0.00000  0.000000  ...  0.000000  0.000000     0.0  0.000000   \n",
      "6      0.00  0.03125  0.000000  ...  0.000000  0.000000     0.0  0.000000   \n",
      "45     0.00  0.00000  0.000000  ...  0.000000  0.000000     0.0  0.000000   \n",
      "39     0.00  0.00000  0.000000  ...  0.000000  0.000000     0.0  0.000000   \n",
      "11     0.00  0.00000  0.000000  ...  0.000000  0.000000     0.0  0.000000   \n",
      "84     0.00  0.00000  0.000000  ...  0.000000  0.000000     0.0  0.000000   \n",
      "100    0.00  0.00000  0.000000  ...  0.000000  0.000000     0.0  0.000000   \n",
      "8      0.00  0.00000  0.000000  ...  0.000000  0.000000     0.0  0.000000   \n",
      "97     0.00  0.03125  0.000000  ...  0.005102  0.000000     0.0  0.019608   \n",
      "4      0.00  0.00000  0.000000  ...  0.000000  0.000000     0.0  0.009804   \n",
      "96     0.00  0.00000  0.000000  ...  0.005102  0.000000     0.0  0.000000   \n",
      "62     0.05  0.00000  0.000000  ...  0.000000  0.006803     0.0  0.000000   \n",
      "\n",
      "     prev_P  prev_R    prev_S    prev_X    prev_Z  significant_FDR_5%  \n",
      "66      0.0     0.0  0.000000  0.000000  0.000000                True  \n",
      "91      0.0     0.0  0.000000  0.006452  0.000000                True  \n",
      "70      0.0     0.0  0.000000  0.006452  0.000000                True  \n",
      "6       0.0     0.0  0.000000  0.000000  0.000000                True  \n",
      "45      0.0     0.0  0.000000  0.006452  0.000000                True  \n",
      "39      0.0     0.0  0.000000  0.000000  0.000000                True  \n",
      "11      0.0     0.0  0.000000  0.000000  0.000000                True  \n",
      "84      0.0     0.0  0.000000  0.000000  0.000000                True  \n",
      "100     0.0     0.0  0.000000  0.000000  0.000000                True  \n",
      "8       0.0     0.0  0.000000  0.000000  0.000000                True  \n",
      "97      0.0     0.0  0.000000  0.000000  0.000000                True  \n",
      "4       0.0     0.0  0.000000  0.000000  0.000000                True  \n",
      "96      0.0     0.0  0.002155  0.000000  0.000000                True  \n",
      "62      0.0     0.0  0.004310  0.000000  0.001672                True  \n",
      "\n",
      "[14 rows x 23 columns]\n"
     ]
    }
   ],
   "source": [
    "print(\"\\nSignificant genes after FDR correction (ETHNICITY):\")\n",
    "print(eth_df[eth_df[\"significant_FDR_5%\"]])"
   ]
  },
  {
   "cell_type": "code",
   "execution_count": 20,
   "id": "39016edc",
   "metadata": {},
   "outputs": [],
   "source": [
    "sex_df.to_csv(\"gene_sex_associations.csv\", index=False)\n",
    "eth_df.to_csv(\"gene_ethnicity_associations.csv\", index=False)"
   ]
  },
  {
   "cell_type": "code",
   "execution_count": null,
   "id": "1ee769e7",
   "metadata": {},
   "outputs": [],
   "source": []
  }
 ],
 "metadata": {
  "kernelspec": {
   "display_name": "env",
   "language": "python",
   "name": "python3"
  },
  "language_info": {
   "codemirror_mode": {
    "name": "ipython",
    "version": 3
   },
   "file_extension": ".py",
   "mimetype": "text/x-python",
   "name": "python",
   "nbconvert_exporter": "python",
   "pygments_lexer": "ipython3",
   "version": "3.12.0"
  }
 },
 "nbformat": 4,
 "nbformat_minor": 5
}
