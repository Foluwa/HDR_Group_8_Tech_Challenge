{
 "cells": [
  {
   "cell_type": "code",
   "execution_count": 2,
   "id": "1a2cb524",
   "metadata": {},
   "outputs": [],
   "source": [
    "import pandas as pd"
   ]
  },
  {
   "cell_type": "code",
   "execution_count": 4,
   "id": "45554719",
   "metadata": {},
   "outputs": [],
   "source": [
    "datasets = {\n",
    "    \"sim_av_gene\": \"sim_av_gene.csv\",\n",
    "    \"sim_av_patient\": \"sim_av_patient.csv\",\n",
    "    \"sim_av_tumour\": \"sim_av_tumour.csv\",\n",
    "    \"sim_rtds_combined\": \"sim_rtds_combined.csv\",\n",
    "    \"sim_rtds_episode\": \"sim_rtds_episode.csv\",\n",
    "    \"sim_rtds_exposure\": \"sim_rtds_exposure.csv\",\n",
    "    \"sim_rtds_prescription\": \"sim_rtds_prescription.csv\",\n",
    "    \"sim_sact_cycle\": \"sim_sact_cycle.csv\",\n",
    "    \"sim_sact_drug_detail\": \"sim_sact_drug_detail.csv\",\n",
    "    \"sim_sact_outcome\": \"sim_sact_outcome.csv\",\n",
    "    \"sim_sact_regimen\": \"sim_sact_regimen.csv\"\n",
    "}"
   ]
  },
  {
   "cell_type": "code",
   "execution_count": 13,
   "id": "628c3d16",
   "metadata": {},
   "outputs": [
    {
     "name": "stderr",
     "output_type": "stream",
     "text": [
      "/var/folders/jq/hfkg7zm125v21zscmmsg0snh0000gr/T/ipykernel_58048/2196934542.py:1: DtypeWarning: Columns (14,15,16,17,23,24,25,26) have mixed types. Specify dtype option on import or set low_memory=False.\n",
      "  dataframes = {name: pd.read_csv(filename) for name, filename in datasets.items()}\n",
      "/var/folders/jq/hfkg7zm125v21zscmmsg0snh0000gr/T/ipykernel_58048/2196934542.py:1: DtypeWarning: Columns (15,20) have mixed types. Specify dtype option on import or set low_memory=False.\n",
      "  dataframes = {name: pd.read_csv(filename) for name, filename in datasets.items()}\n",
      "/var/folders/jq/hfkg7zm125v21zscmmsg0snh0000gr/T/ipykernel_58048/2196934542.py:1: DtypeWarning: Columns (2) have mixed types. Specify dtype option on import or set low_memory=False.\n",
      "  dataframes = {name: pd.read_csv(filename) for name, filename in datasets.items()}\n",
      "/var/folders/jq/hfkg7zm125v21zscmmsg0snh0000gr/T/ipykernel_58048/2196934542.py:1: DtypeWarning: Columns (1,6) have mixed types. Specify dtype option on import or set low_memory=False.\n",
      "  dataframes = {name: pd.read_csv(filename) for name, filename in datasets.items()}\n",
      "/var/folders/jq/hfkg7zm125v21zscmmsg0snh0000gr/T/ipykernel_58048/2196934542.py:1: DtypeWarning: Columns (11) have mixed types. Specify dtype option on import or set low_memory=False.\n",
      "  dataframes = {name: pd.read_csv(filename) for name, filename in datasets.items()}\n",
      "/var/folders/jq/hfkg7zm125v21zscmmsg0snh0000gr/T/ipykernel_58048/2196934542.py:1: DtypeWarning: Columns (5) have mixed types. Specify dtype option on import or set low_memory=False.\n",
      "  dataframes = {name: pd.read_csv(filename) for name, filename in datasets.items()}\n"
     ]
    }
   ],
   "source": [
    "dataframes = {name: pd.read_csv(filename) for name, filename in datasets.items()}"
   ]
  },
  {
   "cell_type": "code",
   "execution_count": 14,
   "id": "1d01972e",
   "metadata": {},
   "outputs": [],
   "source": [
    "sim_av_gene = dataframes[\"sim_av_gene\"]\n",
    "sim_av_patient = dataframes[\"sim_av_patient\"]\n",
    "sim_av_tumour = dataframes[\"sim_av_tumour\"]\n",
    "sim_rtds_combined = dataframes[\"sim_rtds_combined\"]\n",
    "sim_rtds_episode = dataframes[\"sim_rtds_episode\"]\n",
    "sim_rtds_exposure = dataframes[\"sim_rtds_exposure\"]\n",
    "sim_rtds_prescription = dataframes[\"sim_rtds_prescription\"]\n",
    "sim_sact_cycle = dataframes[\"sim_sact_cycle\"]\n",
    "sim_sact_drug_detail = dataframes[\"sim_sact_drug_detail\"]\n",
    "sim_sact_outcome = dataframes[\"sim_sact_outcome\"]\n",
    "sim_sact_regimen = dataframes[\"sim_sact_regimen\"]"
   ]
  }
 ],
 "metadata": {
  "kernelspec": {
   "display_name": "env",
   "language": "python",
   "name": "python3"
  },
  "language_info": {
   "codemirror_mode": {
    "name": "ipython",
    "version": 3
   },
   "file_extension": ".py",
   "mimetype": "text/x-python",
   "name": "python",
   "nbconvert_exporter": "python",
   "pygments_lexer": "ipython3",
   "version": "3.12.0"
  }
 },
 "nbformat": 4,
 "nbformat_minor": 5
}
